{
 "cells": [
  {
   "cell_type": "code",
   "execution_count": 44,
   "id": "a3f0e291-ecff-4133-bc33-87c27791443a",
   "metadata": {},
   "outputs": [
    {
     "name": "stderr",
     "output_type": "stream",
     "text": [
      "C:\\Users\\hankp\\anaconda3\\Lib\\site-packages\\sklearn\\cluster\\_kmeans.py:1382: UserWarning: KMeans is known to have a memory leak on Windows with MKL, when there are less chunks than available threads. You can avoid it by setting the environment variable OMP_NUM_THREADS=4.\n",
      "  warnings.warn(\n"
     ]
    },
    {
     "name": "stdin",
     "output_type": "stream",
     "text": [
      "Enter a movie title:  Udaan\n"
     ]
    },
    {
     "name": "stdout",
     "output_type": "stream",
     "text": [
      "\n",
      "Movies similar to 'Udaan':\n",
      "- The Shawshank Redemption (Directed by Frank Darabont)\n",
      "- Fight Club (Directed by David Fincher)\n",
      "- Forrest Gump (Directed by Robert Zemeckis)\n",
      "- One Flew Over the Cuckoo's Nest (Directed by Milos Forman)\n",
      "- Soorarai Pottru (Directed by Sudha Kongara)\n",
      "- Saving Private Ryan (Directed by Steven Spielberg)\n",
      "- It's a Wonderful Life (Directed by Frank Capra)\n",
      "- Whiplash (Directed by Damien Chazelle)\n",
      "- The Prestige (Directed by Christopher Nolan)\n",
      "- American History X (Directed by Tony Kaye)\n"
     ]
    }
   ],
   "source": [
    "import pandas as pd\n",
    "import numpy as np\n",
    "from sklearn.preprocessing import OneHotEncoder\n",
    "from sklearn.cluster import KMeans\n",
    "import matplotlib.pyplot as plt\n",
    "import seaborn as sns\n",
    "import matplotlib.patches as mpatches\n",
    "from sklearn.manifold import TSNE\n",
    "\n",
    "## Load the dataset \n",
    "df = pd.read_excel(\"original.xlsx\")\n",
    "\n",
    "## Create a body double of the original\n",
    "df1 = df.copy()\n",
    "\n",
    "# Drop unnecessary columns, keeping only 'Series_Title' and 'Genre'\n",
    "df1 = df1[['Series_Title', 'Genre', 'Director']]\n",
    "\"\"\"\n",
    "## from the \"df\" drop all columns except series_title and genre\n",
    "df = df.drop(columns=['Poster_Link', 'Certificate', 'Overview', 'Star1', 'Star2', 'Star3', 'Star4',\n",
    "                      'Released_Year', 'Runtime', 'IMDB_Rating', 'Meta_score', 'Director', 'No_of_Votes'], errors='ignore')\n",
    "df.head(50)\n",
    "\"\"\"\n",
    "## define variable \"X\"\n",
    "X = df1[['Genre']]\n",
    "\n",
    "## Encode the \"genre\" column before performing clustering and convert it to an array.\n",
    "encoder = OneHotEncoder()\n",
    "X_encoded = encoder.fit_transform(X).toarray()\n",
    "\n",
    "## Apply K-means algorithm\n",
    "kmeans = KMeans(n_clusters= 14, n_init='auto', random_state=42)\n",
    "df1[\"Cluster\"] = kmeans.fit_predict(X_encoded)\n",
    "\n",
    "\n",
    "##  Define a function to suggest movies\n",
    "def suggest_movies():\n",
    "    user_movie = input(\"Enter a movie title: \").strip()\n",
    "\n",
    "    # Find the movie in the dataset\n",
    "    if user_movie in df1['Series_Title'].values:\n",
    "        movie_info = df1[df1['Series_Title'] == user_movie].iloc[0]\n",
    "        cluster = movie_info['Cluster']\n",
    "        \n",
    "        # Retrieve other movies from the same cluster\n",
    "        similar_movies = df1[df1['Cluster'] == cluster][['Series_Title', 'Director']].values.tolist()\n",
    "        similar_movies.remove([user_movie, movie_info['Director']])\n",
    "\n",
    "        # Display recommendations\n",
    "        print(f\"\\nMovies similar to '{user_movie}':\")\n",
    "        for movie, director in similar_movies[:10]:  # Show up to 10 recommendations\n",
    "            print(f\"- {movie} (Directed by {director})\")\n",
    "    else:\n",
    "        print(\"Movie not found in the dataset. Try again!\")\n",
    "\n",
    "# Call the function to get user input and suggest similar movies\n",
    "suggest_movies()\n",
    "\n",
    "\n"
   ]
  },
  {
   "cell_type": "code",
   "execution_count": null,
   "id": "ce9a9812-5301-45ba-acd7-a7e07f51b3c3",
   "metadata": {},
   "outputs": [],
   "source": []
  }
 ],
 "metadata": {
  "kernelspec": {
   "display_name": "Python 3 (ipykernel)",
   "language": "python",
   "name": "python3"
  },
  "language_info": {
   "codemirror_mode": {
    "name": "ipython",
    "version": 3
   },
   "file_extension": ".py",
   "mimetype": "text/x-python",
   "name": "python",
   "nbconvert_exporter": "python",
   "pygments_lexer": "ipython3",
   "version": "3.11.7"
  }
 },
 "nbformat": 4,
 "nbformat_minor": 5
}
